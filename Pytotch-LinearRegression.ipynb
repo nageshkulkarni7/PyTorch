{
  "nbformat": 4,
  "nbformat_minor": 0,
  "metadata": {
    "colab": {
      "name": "Untitled4.ipynb",
      "provenance": [],
      "authorship_tag": "ABX9TyPNrmNyE7EOZLEGxXy4BgZQ",
      "include_colab_link": true
    },
    "kernelspec": {
      "name": "python3",
      "display_name": "Python 3"
    }
  },
  "cells": [
    {
      "cell_type": "markdown",
      "metadata": {
        "id": "view-in-github",
        "colab_type": "text"
      },
      "source": [
        "<a href=\"https://colab.research.google.com/github/nageshkulkarni7/PyTorch/blob/main/Pytotch-LinearRegression.ipynb\" target=\"_parent\"><img src=\"https://colab.research.google.com/assets/colab-badge.svg\" alt=\"Open In Colab\"/></a>"
      ]
    },
    {
      "cell_type": "code",
      "metadata": {
        "id": "Zu4heaVpJTNb"
      },
      "source": [
        "import torch\r\n",
        "import torch.nn as nn\r\n",
        "import numpy as np"
      ],
      "execution_count": 1,
      "outputs": []
    },
    {
      "cell_type": "code",
      "metadata": {
        "colab": {
          "base_uri": "https://localhost:8080/"
        },
        "id": "ws5lXSrgmZ96",
        "outputId": "52d268a4-fb27-4c48-baa7-dbbb8f27adeb"
      },
      "source": [
        "x=torch.tensor([2,4,6,8],dtype=torch.float32)\r\n",
        "y=torch.tensor([4,8,12,16],dtype=torch.float32)\r\n",
        "x\r\n",
        "y"
      ],
      "execution_count": 2,
      "outputs": [
        {
          "output_type": "execute_result",
          "data": {
            "text/plain": [
              "tensor([ 4.,  8., 12., 16.])"
            ]
          },
          "metadata": {
            "tags": []
          },
          "execution_count": 2
        }
      ]
    },
    {
      "cell_type": "code",
      "metadata": {
        "colab": {
          "base_uri": "https://localhost:8080/"
        },
        "id": "zOJnW4aVoJKK",
        "outputId": "c1b68248-fd3c-4499-ca17-295abc574a19"
      },
      "source": [
        "w=torch.tensor(0.00,dtype=torch.float32,requires_grad=True)\r\n",
        "w"
      ],
      "execution_count": 3,
      "outputs": [
        {
          "output_type": "execute_result",
          "data": {
            "text/plain": [
              "tensor(0., requires_grad=True)"
            ]
          },
          "metadata": {
            "tags": []
          },
          "execution_count": 3
        }
      ]
    },
    {
      "cell_type": "code",
      "metadata": {
        "id": "eRGXCboEnwJK"
      },
      "source": [
        "#Create Model\r\n",
        "#Construct loss and optimizer\r\n",
        "#training loop -- forward pass , backward pass , update weights\r\n",
        "def forward(x):\r\n",
        "  y= w * x\r\n",
        "  return y"
      ],
      "execution_count": 4,
      "outputs": []
    },
    {
      "cell_type": "code",
      "metadata": {
        "id": "rr9cYeMTpGxj"
      },
      "source": [
        "loss=nn.MSELoss()"
      ],
      "execution_count": 5,
      "outputs": []
    },
    {
      "cell_type": "code",
      "metadata": {
        "id": "pzCAWxwuptxD"
      },
      "source": [
        "learning_rate=0.01"
      ],
      "execution_count": 6,
      "outputs": []
    },
    {
      "cell_type": "code",
      "metadata": {
        "id": "UeJJn5jLpPgt"
      },
      "source": [
        "optimizer=torch.optim.SGD([w],lr=learning_rate)"
      ],
      "execution_count": 7,
      "outputs": []
    },
    {
      "cell_type": "code",
      "metadata": {
        "colab": {
          "base_uri": "https://localhost:8080/"
        },
        "id": "upcQuQx2p1_B",
        "outputId": "d71b5286-ae6c-477c-f6e7-148011e4037d"
      },
      "source": [
        "for epoch in range(10):\r\n",
        "\r\n",
        "  #Predcited\r\n",
        "  y_expected=forward(x)\r\n",
        "  print (\"Epoch \", epoch +y_expected)\r\n",
        "\r\n",
        "  #calculate loss\r\n",
        "  l=loss(y_expected,y)\r\n",
        "\r\n",
        "  #backward pass\r\n",
        "  l.backward()\r\n",
        "\r\n",
        "  #update gradients\r\n",
        "  optimizer.step()\r\n",
        "\r\n",
        "  #Stop tracking gradients\r\n",
        "  optimizer.zero_grad()\r\n",
        "\r\n",
        "\r\n",
        "print (\"output\", forward(25))\r\n",
        "\r\n",
        "\r\n"
      ],
      "execution_count": 9,
      "outputs": [
        {
          "output_type": "stream",
          "text": [
            "Epoch  tensor([ 3.9996,  7.9992, 11.9987, 15.9983], grad_fn=<AddBackward0>)\n",
            "Epoch  tensor([ 4.9998,  8.9997, 12.9995, 16.9993], grad_fn=<AddBackward0>)\n",
            "Epoch  tensor([ 5.9999,  9.9999, 13.9998, 17.9997], grad_fn=<AddBackward0>)\n",
            "Epoch  tensor([ 7.0000, 10.9999, 14.9999, 18.9999], grad_fn=<AddBackward0>)\n",
            "Epoch  tensor([ 8.0000, 12.0000, 16.0000, 20.0000], grad_fn=<AddBackward0>)\n",
            "Epoch  tensor([ 9.0000, 13.0000, 17.0000, 21.0000], grad_fn=<AddBackward0>)\n",
            "Epoch  tensor([10.0000, 14.0000, 18.0000, 22.0000], grad_fn=<AddBackward0>)\n",
            "Epoch  tensor([11.0000, 15.0000, 19.0000, 23.0000], grad_fn=<AddBackward0>)\n",
            "Epoch  tensor([12., 16., 20., 24.], grad_fn=<AddBackward0>)\n",
            "Epoch  tensor([13., 17., 21., 25.], grad_fn=<AddBackward0>)\n",
            "output tensor(50., grad_fn=<MulBackward0>)\n"
          ],
          "name": "stdout"
        }
      ]
    }
  ]
}