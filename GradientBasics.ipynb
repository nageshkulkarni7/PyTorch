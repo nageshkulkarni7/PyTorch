{
  "nbformat": 4,
  "nbformat_minor": 0,
  "metadata": {
    "colab": {
      "name": "Untitled3.ipynb",
      "provenance": [],
      "collapsed_sections": [],
      "authorship_tag": "ABX9TyPGNinDy5fWpiwUNA/+gF6y",
      "include_colab_link": true
    },
    "kernelspec": {
      "name": "python3",
      "display_name": "Python 3"
    }
  },
  "cells": [
    {
      "cell_type": "markdown",
      "metadata": {
        "id": "view-in-github",
        "colab_type": "text"
      },
      "source": [
        "<a href=\"https://colab.research.google.com/github/nageshkulkarni7/PyTorch/blob/main/GradientBasics.ipynb\" target=\"_parent\"><img src=\"https://colab.research.google.com/assets/colab-badge.svg\" alt=\"Open In Colab\"/></a>"
      ]
    },
    {
      "cell_type": "code",
      "metadata": {
        "id": "bYAHpptHkk5-"
      },
      "source": [
        "import torch\r\n",
        "import numpy as np"
      ],
      "execution_count": 18,
      "outputs": []
    },
    {
      "cell_type": "code",
      "metadata": {
        "colab": {
          "base_uri": "https://localhost:8080/"
        },
        "id": "i2QS-74qkpzS",
        "outputId": "084b98df-782c-44ad-e368-227547e9dab5"
      },
      "source": [
        "x=torch.randn(3,requires_grad=True)\r\n",
        "x"
      ],
      "execution_count": 19,
      "outputs": [
        {
          "output_type": "execute_result",
          "data": {
            "text/plain": [
              "tensor([ 0.7857,  0.1907, -0.0183], requires_grad=True)"
            ]
          },
          "metadata": {
            "tags": []
          },
          "execution_count": 19
        }
      ]
    },
    {
      "cell_type": "code",
      "metadata": {
        "colab": {
          "base_uri": "https://localhost:8080/"
        },
        "id": "Ofay62JNkxa1",
        "outputId": "c0b7bc24-5f5f-4b90-c2e6-3741ce1255f2"
      },
      "source": [
        "#Add back function baased on arithmatic operation\r\n",
        "y=x+3\r\n",
        "print(y)\r\n",
        "\r\n",
        "z=y*2\r\n",
        "print(z)\r\n",
        "\r\n",
        "#v=z.mean()\r\n",
        "#print(v)"
      ],
      "execution_count": 20,
      "outputs": [
        {
          "output_type": "stream",
          "text": [
            "tensor([3.7857, 3.1907, 2.9818], grad_fn=<AddBackward0>)\n",
            "tensor([7.5715, 6.3813, 5.9635], grad_fn=<MulBackward0>)\n"
          ],
          "name": "stdout"
        }
      ]
    },
    {
      "cell_type": "code",
      "metadata": {
        "colab": {
          "base_uri": "https://localhost:8080/"
        },
        "id": "m-hOPkyplCO_",
        "outputId": "f6316266-03cb-47f9-fdb7-19cfc03cf6cb"
      },
      "source": [
        "#v.backward()   #- will not work as applicable to scalar only\r\n",
        "n=torch.tensor([0.1,1.2,0.3],dtype=torch.float32)\r\n",
        "z.backward(n)\r\n",
        "print(x.grad)"
      ],
      "execution_count": 21,
      "outputs": [
        {
          "output_type": "stream",
          "text": [
            "tensor([0.2000, 2.4000, 0.6000])\n"
          ],
          "name": "stdout"
        }
      ]
    },
    {
      "cell_type": "code",
      "metadata": {
        "colab": {
          "base_uri": "https://localhost:8080/"
        },
        "id": "_xsTS4Ywlbzg",
        "outputId": "be259784-ead3-4e69-e4cc-fef08cb59385"
      },
      "source": [
        "#to stop gradients from tracking\r\n",
        "xx=torch.randn(3,requires_grad=True)\r\n",
        "print(xx)\r\n"
      ],
      "execution_count": 27,
      "outputs": [
        {
          "output_type": "stream",
          "text": [
            "tensor([0.9769, 1.4238, 0.1389], requires_grad=True)\n"
          ],
          "name": "stdout"
        }
      ]
    },
    {
      "cell_type": "code",
      "metadata": {
        "colab": {
          "base_uri": "https://localhost:8080/"
        },
        "id": "9dB9SRsBsU3l",
        "outputId": "5ebe3031-8340-4bfd-b839-f99eb010ac50"
      },
      "source": [
        "xx.requires_grad_(False)\r\n",
        "print(xx)"
      ],
      "execution_count": 28,
      "outputs": [
        {
          "output_type": "stream",
          "text": [
            "tensor([0.9769, 1.4238, 0.1389])\n"
          ],
          "name": "stdout"
        }
      ]
    },
    {
      "cell_type": "code",
      "metadata": {
        "colab": {
          "base_uri": "https://localhost:8080/"
        },
        "id": "MYCDrXI4shD_",
        "outputId": "3a1848f9-9026-4b8f-a00f-28fddb87d3b1"
      },
      "source": [
        "xx=torch.randn(2,requires_grad=True)\r\n",
        "with torch.no_grad():\r\n",
        "  print(xx)"
      ],
      "execution_count": 30,
      "outputs": [
        {
          "output_type": "stream",
          "text": [
            "tensor([ 1.2808, -0.8318], requires_grad=True)\n"
          ],
          "name": "stdout"
        }
      ]
    },
    {
      "cell_type": "code",
      "metadata": {
        "colab": {
          "base_uri": "https://localhost:8080/",
          "height": 163
        },
        "id": "_RMtkm6dtT2o",
        "outputId": "5862fa60-23b6-441e-b288-d1b76e70c1ac"
      },
      "source": [
        "#xx.grad.zero"
      ],
      "execution_count": 31,
      "outputs": [
        {
          "output_type": "error",
          "ename": "AttributeError",
          "evalue": "ignored",
          "traceback": [
            "\u001b[0;31m---------------------------------------------------------------------------\u001b[0m",
            "\u001b[0;31mAttributeError\u001b[0m                            Traceback (most recent call last)",
            "\u001b[0;32m<ipython-input-31-9696e631434c>\u001b[0m in \u001b[0;36m<module>\u001b[0;34m()\u001b[0m\n\u001b[0;32m----> 1\u001b[0;31m \u001b[0mxx\u001b[0m\u001b[0;34m.\u001b[0m\u001b[0mgrad\u001b[0m\u001b[0;34m.\u001b[0m\u001b[0mzero\u001b[0m\u001b[0;34m\u001b[0m\u001b[0;34m\u001b[0m\u001b[0m\n\u001b[0m",
            "\u001b[0;31mAttributeError\u001b[0m: 'NoneType' object has no attribute 'zero'"
          ]
        }
      ]
    },
    {
      "cell_type": "code",
      "metadata": {
        "id": "5xrpq2zBtwr0"
      },
      "source": [
        ""
      ],
      "execution_count": null,
      "outputs": []
    }
  ]
}