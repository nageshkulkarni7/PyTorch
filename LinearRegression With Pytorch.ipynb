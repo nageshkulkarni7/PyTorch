{
  "nbformat": 4,
  "nbformat_minor": 0,
  "metadata": {
    "colab": {
      "name": "Untitled4.ipynb",
      "provenance": [],
      "authorship_tag": "ABX9TyMjrtpL2qwOMzKCdiNJA2a+",
      "include_colab_link": true
    },
    "kernelspec": {
      "name": "python3",
      "display_name": "Python 3"
    }
  },
  "cells": [
    {
      "cell_type": "markdown",
      "metadata": {
        "id": "view-in-github",
        "colab_type": "text"
      },
      "source": [
        "<a href=\"https://colab.research.google.com/github/nageshkulkarni7/PyTorch/blob/main/LinearRegression%20With%20Pytorch.ipynb\" target=\"_parent\"><img src=\"https://colab.research.google.com/assets/colab-badge.svg\" alt=\"Open In Colab\"/></a>"
      ]
    },
    {
      "cell_type": "code",
      "metadata": {
        "id": "Zu4heaVpJTNb"
      },
      "source": [
        "import torch\r\n",
        "import torch.nn as nn\r\n",
        "import numpy as np"
      ],
      "execution_count": 2,
      "outputs": []
    },
    {
      "cell_type": "code",
      "metadata": {
        "id": "j29UQLqIaYJX"
      },
      "source": [
        "#Tensors are N-Dimensional array\r\n",
        "#Pytorch provide tesnor usage with diff operations for computing ,gradients tracking and scientific computing\r\n",
        "#can make use of GPU's for fast processing\r\n",
        "# Autograd package of pytorch provides forward computational graph and backpropagting through graph allow to compute gradients"
      ],
      "execution_count": null,
      "outputs": []
    },
    {
      "cell_type": "code",
      "metadata": {
        "id": "AThtWQneaxtd",
        "outputId": "fe279785-8161-4a7a-9176-2910de3939ed",
        "colab": {
          "base_uri": "https://localhost:8080/"
        }
      },
      "source": [
        "#pytorch basics\r\n",
        "a=torch.randn(2,2)\r\n",
        "b=torch.zeros(2,2)\r\n",
        "b\r\n",
        "print(b.dtype)  #torch.float32 is default data type\r\n"
      ],
      "execution_count": 6,
      "outputs": [
        {
          "output_type": "stream",
          "text": [
            "torch.float32\n"
          ],
          "name": "stdout"
        }
      ]
    },
    {
      "cell_type": "code",
      "metadata": {
        "id": "9rjU_B7whix4",
        "outputId": "b4a19f45-05fe-41af-ba65-841080b54191",
        "colab": {
          "base_uri": "https://localhost:8080/"
        }
      },
      "source": [
        "c=torch.ones(2,2,dtype=torch.float16)\r\n",
        "c"
      ],
      "execution_count": 7,
      "outputs": [
        {
          "output_type": "execute_result",
          "data": {
            "text/plain": [
              "tensor([[1., 1.],\n",
              "        [1., 1.]], dtype=torch.float16)"
            ]
          },
          "metadata": {
            "tags": []
          },
          "execution_count": 7
        }
      ]
    },
    {
      "cell_type": "code",
      "metadata": {
        "id": "X3P9kZ2ahwiR",
        "outputId": "aa231231-1338-4df9-fc8a-4787741f9c41",
        "colab": {
          "base_uri": "https://localhost:8080/"
        }
      },
      "source": [
        "#Tensor slicing example\r\n",
        "d=torch.rand(5,3)\r\n",
        "d\r\n",
        "print(d[:,0])    #First row [0,:]"
      ],
      "execution_count": 9,
      "outputs": [
        {
          "output_type": "stream",
          "text": [
            "tensor([0.3256, 0.1451, 0.6848, 0.9891, 0.7593])\n"
          ],
          "name": "stdout"
        }
      ]
    },
    {
      "cell_type": "code",
      "metadata": {
        "id": "iK9CyLQ2im_O",
        "outputId": "5c6f315c-c4bd-4c31-b440-5b965828e122",
        "colab": {
          "base_uri": "https://localhost:8080/"
        }
      },
      "source": [
        "#Reshaping the tesnors\r\n",
        "s=torch.rand(4,4)\r\n",
        "print(s.shape)\r\n",
        "newview=s.view(16)\r\n",
        "newview\r\n",
        "print(newview.shape)"
      ],
      "execution_count": 10,
      "outputs": [
        {
          "output_type": "stream",
          "text": [
            "torch.Size([4, 4])\n",
            "torch.Size([16])\n"
          ],
          "name": "stdout"
        }
      ]
    },
    {
      "cell_type": "code",
      "metadata": {
        "id": "ayHFWhXNhwcC",
        "outputId": "2cdadcac-4e05-4d61-9017-08eaf638c14c",
        "colab": {
          "base_uri": "https://localhost:8080/"
        }
      },
      "source": [
        "#Numpy to tensor conversion\r\n",
        "a=np.ones(5)\r\n",
        "t=torch.from_numpy(a)\r\n",
        "print(t.dtype)"
      ],
      "execution_count": 11,
      "outputs": [
        {
          "output_type": "stream",
          "text": [
            "torch.float64\n"
          ],
          "name": "stdout"
        }
      ]
    },
    {
      "cell_type": "code",
      "metadata": {
        "id": "3HA1BStxj3bM",
        "outputId": "aac55ceb-df6c-4627-8f10-b4cb0da0018b",
        "colab": {
          "base_uri": "https://localhost:8080/"
        }
      },
      "source": [
        "#Gradient computation \r\n",
        "x=torch.randn(3,requires_grad=True)\r\n",
        "y=x+3\r\n",
        "print(y)\r\n",
        "\r\n",
        "z=y*2\r\n",
        "print(z)\r\n",
        "\r\n",
        "#v=z.mean()\r\n",
        "#print(v)\r\n",
        "n=torch.tensor([0.1,1.2,0.3],dtype=torch.float32)\r\n",
        "z.backward(n)\r\n",
        "\r\n",
        "print(x.grad)"
      ],
      "execution_count": 17,
      "outputs": [
        {
          "output_type": "stream",
          "text": [
            "tensor([1.7656, 2.9331, 2.1407], grad_fn=<AddBackward0>)\n",
            "tensor([3.5313, 5.8663, 4.2814], grad_fn=<MulBackward0>)\n",
            "tensor([0.2000, 2.4000, 0.6000])\n"
          ],
          "name": "stdout"
        }
      ]
    },
    {
      "cell_type": "code",
      "metadata": {
        "colab": {
          "base_uri": "https://localhost:8080/"
        },
        "id": "ws5lXSrgmZ96",
        "outputId": "68b31bc8-610f-4839-f85f-ef7fa3bb47e6"
      },
      "source": [
        "x=torch.tensor([2,4,6,8],dtype=torch.float32)\r\n",
        "y=torch.tensor([4,8,12,16],dtype=torch.float32)\r\n",
        "x\r\n",
        "y"
      ],
      "execution_count": 18,
      "outputs": [
        {
          "output_type": "execute_result",
          "data": {
            "text/plain": [
              "tensor([ 4.,  8., 12., 16.])"
            ]
          },
          "metadata": {
            "tags": []
          },
          "execution_count": 18
        }
      ]
    },
    {
      "cell_type": "code",
      "metadata": {
        "colab": {
          "base_uri": "https://localhost:8080/"
        },
        "id": "zOJnW4aVoJKK",
        "outputId": "0c005ed7-1511-4626-e163-a36e33beaa3c"
      },
      "source": [
        "w=torch.tensor(0.00,dtype=torch.float32,requires_grad=True)\r\n",
        "w"
      ],
      "execution_count": 19,
      "outputs": [
        {
          "output_type": "execute_result",
          "data": {
            "text/plain": [
              "tensor(0., requires_grad=True)"
            ]
          },
          "metadata": {
            "tags": []
          },
          "execution_count": 19
        }
      ]
    },
    {
      "cell_type": "code",
      "metadata": {
        "id": "eRGXCboEnwJK"
      },
      "source": [
        "#Create Model\r\n",
        "#Construct loss and optimizer\r\n",
        "#training loop -- forward pass , backward pass , update weights\r\n",
        "def forward(x):\r\n",
        "  y= w * x\r\n",
        "  return y"
      ],
      "execution_count": 20,
      "outputs": []
    },
    {
      "cell_type": "code",
      "metadata": {
        "id": "rr9cYeMTpGxj"
      },
      "source": [
        "loss=nn.MSELoss()"
      ],
      "execution_count": 21,
      "outputs": []
    },
    {
      "cell_type": "code",
      "metadata": {
        "id": "pzCAWxwuptxD"
      },
      "source": [
        "learning_rate=0.01"
      ],
      "execution_count": 22,
      "outputs": []
    },
    {
      "cell_type": "code",
      "metadata": {
        "id": "UeJJn5jLpPgt"
      },
      "source": [
        "optimizer=torch.optim.SGD([w],lr=learning_rate)"
      ],
      "execution_count": 23,
      "outputs": []
    },
    {
      "cell_type": "code",
      "metadata": {
        "colab": {
          "base_uri": "https://localhost:8080/"
        },
        "id": "upcQuQx2p1_B",
        "outputId": "45a057ba-4240-4b86-d39c-5387b1b85c30"
      },
      "source": [
        "for epoch in range(10):\r\n",
        "\r\n",
        "  #Predcited\r\n",
        "  y_expected=forward(x)\r\n",
        "  print (\"Epoch \", epoch +y_expected)\r\n",
        "\r\n",
        "  #calculate loss\r\n",
        "  l=loss(y_expected,y)\r\n",
        "\r\n",
        "  #backward pass\r\n",
        "  l.backward()\r\n",
        "\r\n",
        "  #update gradients\r\n",
        "  optimizer.step()\r\n",
        "\r\n",
        "  #Stop tracking gradients\r\n",
        "  optimizer.zero_grad()\r\n",
        "\r\n",
        "\r\n",
        "print (\"output\", forward(25))\r\n",
        "\r\n",
        "\r\n"
      ],
      "execution_count": 24,
      "outputs": [
        {
          "output_type": "stream",
          "text": [
            "Epoch  tensor([0., 0., 0., 0.], grad_fn=<AddBackward0>)\n",
            "Epoch  tensor([ 3.4000,  5.8000,  8.2000, 10.6000], grad_fn=<AddBackward0>)\n",
            "Epoch  tensor([ 5.3600,  8.7200, 12.0800, 15.4400], grad_fn=<AddBackward0>)\n",
            "Epoch  tensor([ 6.7440, 10.4880, 14.2320, 17.9760], grad_fn=<AddBackward0>)\n",
            "Epoch  tensor([ 7.8976, 11.7952, 15.6928, 19.5904], grad_fn=<AddBackward0>)\n",
            "Epoch  tensor([ 8.9590, 12.9181, 16.8771, 20.8362], grad_fn=<AddBackward0>)\n",
            "Epoch  tensor([ 9.9836, 13.9672, 17.9508, 21.9345], grad_fn=<AddBackward0>)\n",
            "Epoch  tensor([10.9934, 14.9869, 18.9803, 22.9738], grad_fn=<AddBackward0>)\n",
            "Epoch  tensor([11.9974, 15.9948, 19.9921, 23.9895], grad_fn=<AddBackward0>)\n",
            "Epoch  tensor([12.9990, 16.9979, 20.9969, 24.9958], grad_fn=<AddBackward0>)\n",
            "output tensor(49.9948, grad_fn=<MulBackward0>)\n"
          ],
          "name": "stdout"
        }
      ]
    }
  ]
}