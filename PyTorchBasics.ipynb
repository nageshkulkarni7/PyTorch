{
  "nbformat": 4,
  "nbformat_minor": 0,
  "metadata": {
    "colab": {
      "name": "Untitled2.ipynb",
      "provenance": [],
      "collapsed_sections": [],
      "authorship_tag": "ABX9TyMwj73yhy6eo2L6FVFI3M7O",
      "include_colab_link": true
    },
    "kernelspec": {
      "name": "python3",
      "display_name": "Python 3"
    }
  },
  "cells": [
    {
      "cell_type": "markdown",
      "metadata": {
        "id": "view-in-github",
        "colab_type": "text"
      },
      "source": [
        "<a href=\"https://colab.research.google.com/github/nageshkulkarni7/PyTorch/blob/main/PyTorchBasics.ipynb\" target=\"_parent\"><img src=\"https://colab.research.google.com/assets/colab-badge.svg\" alt=\"Open In Colab\"/></a>"
      ]
    },
    {
      "cell_type": "code",
      "metadata": {
        "id": "iEWzhEzXRzM9"
      },
      "source": [
        "import torch"
      ],
      "execution_count": 1,
      "outputs": []
    },
    {
      "cell_type": "code",
      "metadata": {
        "id": "iGqKDYHUR1p6"
      },
      "source": [
        "x=torch.rand(2,2) # Random Number"
      ],
      "execution_count": 2,
      "outputs": []
    },
    {
      "cell_type": "code",
      "metadata": {
        "colab": {
          "base_uri": "https://localhost:8080/"
        },
        "id": "zzPiMLCwR58h",
        "outputId": "01c4a08c-89c0-4b2f-cbc0-0937a46d60d1"
      },
      "source": [
        "print(x)"
      ],
      "execution_count": 3,
      "outputs": [
        {
          "output_type": "stream",
          "text": [
            "tensor([[0.3687, 0.6916],\n",
            "        [0.0463, 0.4894]])\n"
          ],
          "name": "stdout"
        }
      ]
    },
    {
      "cell_type": "code",
      "metadata": {
        "colab": {
          "base_uri": "https://localhost:8080/"
        },
        "id": "EsCVax2eSNXc",
        "outputId": "78554d9d-194c-4ca5-eb7b-3cdb49f14f7d"
      },
      "source": [
        "print (torch.zeros(2,2)) #Ones"
      ],
      "execution_count": 5,
      "outputs": [
        {
          "output_type": "stream",
          "text": [
            "tensor([[0., 0.],\n",
            "        [0., 0.]])\n"
          ],
          "name": "stdout"
        }
      ]
    },
    {
      "cell_type": "code",
      "metadata": {
        "colab": {
          "base_uri": "https://localhost:8080/"
        },
        "id": "lAKeqnHVSiRD",
        "outputId": "d2a1020f-436d-4d24-fb97-49f7f1dabe13"
      },
      "source": [
        "print(x.dtype) # Default data type"
      ],
      "execution_count": 6,
      "outputs": [
        {
          "output_type": "stream",
          "text": [
            "torch.float32\n"
          ],
          "name": "stdout"
        }
      ]
    },
    {
      "cell_type": "code",
      "metadata": {
        "colab": {
          "base_uri": "https://localhost:8080/"
        },
        "id": "4bgFd3NOSm58",
        "outputId": "77568053-6e50-434a-c8fd-512bd265a1ae"
      },
      "source": [
        "x= torch.tensor(1,dtype=torch.float16)\r\n",
        "x"
      ],
      "execution_count": 7,
      "outputs": [
        {
          "output_type": "execute_result",
          "data": {
            "text/plain": [
              "tensor(1., dtype=torch.float16)"
            ]
          },
          "metadata": {
            "tags": []
          },
          "execution_count": 7
        }
      ]
    },
    {
      "cell_type": "markdown",
      "metadata": {
        "id": "7XVG8xgRVwdo"
      },
      "source": [
        "Arithmatic Operation"
      ]
    },
    {
      "cell_type": "code",
      "metadata": {
        "colab": {
          "base_uri": "https://localhost:8080/"
        },
        "id": "KrC-gjGNVuWA",
        "outputId": "e124db17-33f5-4b26-ede0-9c6c1b16644a"
      },
      "source": [
        "a=torch.add(1,2)\r\n",
        "print(a)"
      ],
      "execution_count": 10,
      "outputs": [
        {
          "output_type": "stream",
          "text": [
            "tensor(3)\n"
          ],
          "name": "stdout"
        }
      ]
    },
    {
      "cell_type": "code",
      "metadata": {
        "colab": {
          "base_uri": "https://localhost:8080/"
        },
        "id": "ltw6t40FV5XB",
        "outputId": "6627dd0c-1aaa-47a4-d54b-b15e86096f11"
      },
      "source": [
        "x= torch.ones(1)\r\n",
        "x.add_(2)\r\n",
        "x"
      ],
      "execution_count": 13,
      "outputs": [
        {
          "output_type": "execute_result",
          "data": {
            "text/plain": [
              "tensor([3.])"
            ]
          },
          "metadata": {
            "tags": []
          },
          "execution_count": 13
        }
      ]
    },
    {
      "cell_type": "code",
      "metadata": {
        "colab": {
          "base_uri": "https://localhost:8080/"
        },
        "id": "oZIXeQ9gWYpa",
        "outputId": "86bb4bf4-46e1-480f-aadb-485d6f960f4c"
      },
      "source": [
        "x=torch.ones(2,2)\r\n",
        "x.mul_(2)\r\n",
        "x"
      ],
      "execution_count": 14,
      "outputs": [
        {
          "output_type": "execute_result",
          "data": {
            "text/plain": [
              "tensor([[2., 2.],\n",
              "        [2., 2.]])"
            ]
          },
          "metadata": {
            "tags": []
          },
          "execution_count": 14
        }
      ]
    },
    {
      "cell_type": "markdown",
      "metadata": {
        "id": "EGMQ72U9Xpga"
      },
      "source": [
        "Slicing"
      ]
    },
    {
      "cell_type": "code",
      "metadata": {
        "colab": {
          "base_uri": "https://localhost:8080/"
        },
        "id": "VfPE4W9vXNXt",
        "outputId": "4f569749-4946-4a92-e87e-e5a3ac3875b0"
      },
      "source": [
        "z=torch.rand(5,3)\r\n",
        "z\r\n"
      ],
      "execution_count": 18,
      "outputs": [
        {
          "output_type": "execute_result",
          "data": {
            "text/plain": [
              "tensor([[0.8516, 0.1655, 0.6845],\n",
              "        [0.9241, 0.4093, 0.7373],\n",
              "        [0.3701, 0.8274, 0.0013],\n",
              "        [0.0143, 0.2171, 0.8014],\n",
              "        [0.9272, 0.3231, 0.6977]])"
            ]
          },
          "metadata": {
            "tags": []
          },
          "execution_count": 18
        }
      ]
    },
    {
      "cell_type": "code",
      "metadata": {
        "colab": {
          "base_uri": "https://localhost:8080/"
        },
        "id": "WYcnuQ2hYBRz",
        "outputId": "c76bfd9a-c054-4ed5-b2ee-5eca0394f6f0"
      },
      "source": [
        "print(z[:,0])  # First Column"
      ],
      "execution_count": 21,
      "outputs": [
        {
          "output_type": "stream",
          "text": [
            "tensor([0.8516, 0.9241, 0.3701, 0.0143, 0.9272])\n"
          ],
          "name": "stdout"
        }
      ]
    },
    {
      "cell_type": "code",
      "metadata": {
        "colab": {
          "base_uri": "https://localhost:8080/"
        },
        "id": "HmOfxvTcYFEI",
        "outputId": "6e5fae40-5e33-4bb7-a9f0-0adaff52bdd0"
      },
      "source": [
        "print(\"First Row\",z[0,:])"
      ],
      "execution_count": 23,
      "outputs": [
        {
          "output_type": "stream",
          "text": [
            "First Row tensor([0.8516, 0.1655, 0.6845])\n"
          ],
          "name": "stdout"
        }
      ]
    },
    {
      "cell_type": "code",
      "metadata": {
        "colab": {
          "base_uri": "https://localhost:8080/"
        },
        "id": "T-sM8vu8YjiA",
        "outputId": "ad6eb6a3-d4b1-4fcf-fbd5-207d8bc43cee"
      },
      "source": [
        "print(\"At Element\",z[1,1].item())"
      ],
      "execution_count": 25,
      "outputs": [
        {
          "output_type": "stream",
          "text": [
            "At Element 0.4093227982521057\n"
          ],
          "name": "stdout"
        }
      ]
    },
    {
      "cell_type": "markdown",
      "metadata": {
        "id": "CWQXlBvDY-ha"
      },
      "source": [
        "Shape & Reshape"
      ]
    },
    {
      "cell_type": "code",
      "metadata": {
        "colab": {
          "base_uri": "https://localhost:8080/"
        },
        "id": "U6TkrnY3YqLC",
        "outputId": "9c6f3779-1154-42c0-e36e-560429dd47dc"
      },
      "source": [
        "s=torch.rand(4,4)\r\n",
        "print(s.shape)\r\n",
        "\r\n",
        "newview=s.view(16)\r\n",
        "newview\r\n",
        "print(newview.shape)"
      ],
      "execution_count": 28,
      "outputs": [
        {
          "output_type": "stream",
          "text": [
            "torch.Size([4, 4])\n",
            "torch.Size([16])\n"
          ],
          "name": "stdout"
        }
      ]
    },
    {
      "cell_type": "code",
      "metadata": {
        "colab": {
          "base_uri": "https://localhost:8080/"
        },
        "id": "iF7ZlP9nazB3",
        "outputId": "adb5df89-9b35-4527-c499-e8c1c3d38486"
      },
      "source": [
        "# tensor to numpy\r\n",
        "import numpy as np\r\n",
        "t=torch.ones(5)\r\n",
        "# convert to numpy\r\n",
        "n=t.numpy()\r\n",
        "print(n)\r\n",
        "print(type(n))\r\n",
        "# inplace function will update all tensor as tensor point same memor location in CPU"
      ],
      "execution_count": 32,
      "outputs": [
        {
          "output_type": "stream",
          "text": [
            "[1. 1. 1. 1. 1.]\n",
            "<class 'numpy.ndarray'>\n"
          ],
          "name": "stdout"
        }
      ]
    },
    {
      "cell_type": "code",
      "metadata": {
        "colab": {
          "base_uri": "https://localhost:8080/"
        },
        "id": "36uPu_KLbFyA",
        "outputId": "eafb503d-255e-4d10-9438-27b099d15cf0"
      },
      "source": [
        "#numpy to tensor\r\n",
        "a=np.ones(5)\r\n",
        "a"
      ],
      "execution_count": 33,
      "outputs": [
        {
          "output_type": "execute_result",
          "data": {
            "text/plain": [
              "array([1., 1., 1., 1., 1.])"
            ]
          },
          "metadata": {
            "tags": []
          },
          "execution_count": 33
        }
      ]
    },
    {
      "cell_type": "code",
      "metadata": {
        "colab": {
          "base_uri": "https://localhost:8080/"
        },
        "id": "gG-Hd-0Ubyiw",
        "outputId": "71beaa6d-d36e-4206-cb49-82c47a927f4c"
      },
      "source": [
        "t=torch.from_numpy(a) # default data type is 64\r\n",
        "t"
      ],
      "execution_count": 35,
      "outputs": [
        {
          "output_type": "execute_result",
          "data": {
            "text/plain": [
              "tensor([1., 1., 1., 1., 1.], dtype=torch.float64)"
            ]
          },
          "metadata": {
            "tags": []
          },
          "execution_count": 35
        }
      ]
    },
    {
      "cell_type": "code",
      "metadata": {
        "id": "TgkwF6O3b226"
      },
      "source": [
        ""
      ],
      "execution_count": null,
      "outputs": []
    }
  ]
}